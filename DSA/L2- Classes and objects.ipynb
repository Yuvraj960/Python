{
 "cells": [
  {
   "cell_type": "markdown",
   "metadata": {
    "id": "Pv-EPhh7yz_a"
   },
   "source": [
    "# Classes and objects"
   ]
  },
  {
   "cell_type": "markdown",
   "metadata": {
    "id": "3e6GBtzfMs7O"
   },
   "source": [
    "### Basic definition of class `Point` using $(x,y)$ coordinates"
   ]
  },
  {
   "cell_type": "code",
   "execution_count": 1,
   "metadata": {
    "executionInfo": {
     "elapsed": 635,
     "status": "ok",
     "timestamp": 1626958012050,
     "user": {
      "displayName": "Madhavan Mukund",
      "photoUrl": "",
      "userId": "01436577584352849678"
     },
     "user_tz": -330
    },
    "id": "ca2GbnOHzC2r"
   },
   "outputs": [],
   "source": [
    "class Point:\n",
    "  def __init__(self,a=0,b=0):\n",
    "    self.x = a\n",
    "    self.y = b\n",
    "\n",
    "  def translate(self,deltax,deltay):\n",
    "    self.x += deltax\n",
    "    self.y += deltay\n",
    "\n",
    "  def odistance(self):\n",
    "    import math\n",
    "    d = math.sqrt(self.x*self.x +\n",
    "                  self.y*self.y)\n",
    "    return(d)"
   ]
  },
  {
   "cell_type": "markdown",
   "metadata": {
    "id": "vL5H9DY-NGgv"
   },
   "source": [
    "Create two points"
   ]
  },
  {
   "cell_type": "code",
   "execution_count": 2,
   "metadata": {
    "executionInfo": {
     "elapsed": 45,
     "status": "ok",
     "timestamp": 1626958012499,
     "user": {
      "displayName": "Madhavan Mukund",
      "photoUrl": "",
      "userId": "01436577584352849678"
     },
     "user_tz": -330
    },
    "id": "-oTeAgIcNP2L"
   },
   "outputs": [],
   "source": [
    "p = Point(3,4)\n",
    "q = Point(7,10)"
   ]
  },
  {
   "cell_type": "markdown",
   "metadata": {
    "id": "XdAb4k1SNWoS"
   },
   "source": [
    "Compute `odistance` for `p` and `q`"
   ]
  },
  {
   "cell_type": "code",
   "execution_count": 3,
   "metadata": {
    "colab": {
     "base_uri": "https://localhost:8080/"
    },
    "executionInfo": {
     "elapsed": 42,
     "status": "ok",
     "timestamp": 1626958012500,
     "user": {
      "displayName": "Madhavan Mukund",
      "photoUrl": "",
      "userId": "01436577584352849678"
     },
     "user_tz": -330
    },
    "id": "YzY1sm3bhUc9",
    "outputId": "fdcfb73b-2756-46d9-a7b5-693756737e49"
   },
   "outputs": [
    {
     "data": {
      "text/plain": [
       "(5.0, 12.206555615733702)"
      ]
     },
     "execution_count": 3,
     "metadata": {
      "tags": []
     },
     "output_type": "execute_result"
    }
   ],
   "source": [
    "p.odistance(), q.odistance()"
   ]
  },
  {
   "cell_type": "markdown",
   "metadata": {
    "id": "jS7WVBYmNkfz"
   },
   "source": [
    "Translate `p` and check the distance"
   ]
  },
  {
   "cell_type": "code",
   "execution_count": 4,
   "metadata": {
    "colab": {
     "base_uri": "https://localhost:8080/"
    },
    "executionInfo": {
     "elapsed": 35,
     "status": "ok",
     "timestamp": 1626958012501,
     "user": {
      "displayName": "Madhavan Mukund",
      "photoUrl": "",
      "userId": "01436577584352849678"
     },
     "user_tz": -330
    },
    "id": "ZWqlMbmANiGO",
    "outputId": "cbfef1ed-3010-4cf9-daca-52d44377fa14"
   },
   "outputs": [
    {
     "data": {
      "text/plain": [
       "10.0"
      ]
     },
     "execution_count": 4,
     "metadata": {
      "tags": []
     },
     "output_type": "execute_result"
    }
   ],
   "source": [
    "p.translate(3,4)\n",
    "p.odistance()"
   ]
  },
  {
   "cell_type": "markdown",
   "metadata": {
    "id": "fV_cqd-TN6_N"
   },
   "source": [
    "* At this stage, `print()` does not produce anything meaningful\n",
    "* `+` is not defined yet"
   ]
  },
  {
   "cell_type": "code",
   "execution_count": 5,
   "metadata": {
    "colab": {
     "base_uri": "https://localhost:8080/"
    },
    "executionInfo": {
     "elapsed": 29,
     "status": "ok",
     "timestamp": 1626958012502,
     "user": {
      "displayName": "Madhavan Mukund",
      "photoUrl": "",
      "userId": "01436577584352849678"
     },
     "user_tz": -330
    },
    "id": "5ExlIEd-kbAq",
    "outputId": "cf3773f1-591d-4b8f-853b-827f54ae8fd1"
   },
   "outputs": [
    {
     "name": "stdout",
     "output_type": "stream",
     "text": [
      "<__main__.Point object at 0x7f3b302c0750>\n"
     ]
    }
   ],
   "source": [
    "print(p)"
   ]
  },
  {
   "cell_type": "code",
   "execution_count": 6,
   "metadata": {
    "colab": {
     "base_uri": "https://localhost:8080/",
     "height": 168
    },
    "executionInfo": {
     "elapsed": 37,
     "status": "error",
     "timestamp": 1626958012516,
     "user": {
      "displayName": "Madhavan Mukund",
      "photoUrl": "",
      "userId": "01436577584352849678"
     },
     "user_tz": -330
    },
    "id": "yKrNADbxOQQ3",
    "outputId": "08356ad6-8488-4edf-8d2b-2f5ba8d21d4c"
   },
   "outputs": [
    {
     "ename": "TypeError",
     "evalue": "ignored",
     "output_type": "error",
     "traceback": [
      "\u001b[0;31m---------------------------------------------------------------------------\u001b[0m",
      "\u001b[0;31mTypeError\u001b[0m                                 Traceback (most recent call last)",
      "\u001b[0;32m<ipython-input-6-1886228b68be>\u001b[0m in \u001b[0;36m<module>\u001b[0;34m()\u001b[0m\n\u001b[0;32m----> 1\u001b[0;31m \u001b[0mprint\u001b[0m\u001b[0;34m(\u001b[0m\u001b[0mp\u001b[0m\u001b[0;34m+\u001b[0m\u001b[0mq\u001b[0m\u001b[0;34m)\u001b[0m\u001b[0;34m\u001b[0m\u001b[0;34m\u001b[0m\u001b[0m\n\u001b[0m",
      "\u001b[0;31mTypeError\u001b[0m: unsupported operand type(s) for +: 'Point' and 'Point'"
     ]
    }
   ],
   "source": [
    "print(p+q)"
   ]
  },
  {
   "cell_type": "markdown",
   "metadata": {
    "id": "LDKw6QbcOWhn"
   },
   "source": [
    "## Now change the definition of `Point` to use $(r,\\theta)$ representation"
   ]
  },
  {
   "cell_type": "code",
   "execution_count": 7,
   "metadata": {
    "executionInfo": {
     "elapsed": 389,
     "status": "ok",
     "timestamp": 1626958033432,
     "user": {
      "displayName": "Madhavan Mukund",
      "photoUrl": "",
      "userId": "01436577584352849678"
     },
     "user_tz": -330
    },
    "id": "Pu9qu_a5kJdJ"
   },
   "outputs": [],
   "source": [
    "import math\n",
    "class Point:\n",
    "  def __init__(self,a=0,b=0):\n",
    "    self.r = math.sqrt(a*a + b*b)\n",
    "    if a == 0:\n",
    "      self.theta = 0\n",
    "    else:\n",
    "      self.theta = math.atan(b/a)\n",
    "\n",
    "  def translate(self,deltax,deltay):    \n",
    "    x = self.r*math.cos(self.theta)\n",
    "    y = self.r*math.sin(self.theta)\n",
    "    x += deltax\n",
    "    y += deltay\n",
    "    self.r = math.sqrt(x*x + y*y)\n",
    "    if x == 0:\n",
    "      self.theta = 0\n",
    "    else:\n",
    "      self.theta = math.atan(y/x)\n",
    "\n",
    "  def odistance(self):\n",
    "    return(self.r)\n"
   ]
  },
  {
   "cell_type": "markdown",
   "metadata": {
    "id": "R47rTz9YOx9M"
   },
   "source": [
    "### Repeat the examples above\n",
    "* Observe that nothing changes for the user of the class"
   ]
  },
  {
   "cell_type": "markdown",
   "metadata": {
    "id": "ZCNaDrTyOyOO"
   },
   "source": [
    "Create two points"
   ]
  },
  {
   "cell_type": "code",
   "execution_count": 8,
   "metadata": {
    "executionInfo": {
     "elapsed": 45,
     "status": "ok",
     "timestamp": 1626958034113,
     "user": {
      "displayName": "Madhavan Mukund",
      "photoUrl": "",
      "userId": "01436577584352849678"
     },
     "user_tz": -330
    },
    "id": "Zqs81eH9OyOR"
   },
   "outputs": [],
   "source": [
    "p = Point(3,4)\n",
    "q = Point(7,10)"
   ]
  },
  {
   "cell_type": "markdown",
   "metadata": {
    "id": "5blqhCjgOyOU"
   },
   "source": [
    "Compute `odistance` for `p` and `q`"
   ]
  },
  {
   "cell_type": "code",
   "execution_count": 9,
   "metadata": {
    "colab": {
     "base_uri": "https://localhost:8080/"
    },
    "executionInfo": {
     "elapsed": 40,
     "status": "ok",
     "timestamp": 1626958034114,
     "user": {
      "displayName": "Madhavan Mukund",
      "photoUrl": "",
      "userId": "01436577584352849678"
     },
     "user_tz": -330
    },
    "id": "i4h-cuOkOyOW",
    "outputId": "2d715329-fe9f-49a5-d352-05f10037f919"
   },
   "outputs": [
    {
     "data": {
      "text/plain": [
       "(5.0, 12.206555615733702)"
      ]
     },
     "execution_count": 9,
     "metadata": {
      "tags": []
     },
     "output_type": "execute_result"
    }
   ],
   "source": [
    "p.odistance(), q.odistance()"
   ]
  },
  {
   "cell_type": "markdown",
   "metadata": {
    "id": "WKKpB9fCOyOa"
   },
   "source": [
    "Translate `p` and check the distance"
   ]
  },
  {
   "cell_type": "code",
   "execution_count": 10,
   "metadata": {
    "colab": {
     "base_uri": "https://localhost:8080/"
    },
    "executionInfo": {
     "elapsed": 32,
     "status": "ok",
     "timestamp": 1626958034115,
     "user": {
      "displayName": "Madhavan Mukund",
      "photoUrl": "",
      "userId": "01436577584352849678"
     },
     "user_tz": -330
    },
    "id": "-8g6qFUKOyOc",
    "outputId": "8090c1ad-4c86-43aa-d776-77db82f067a2"
   },
   "outputs": [
    {
     "data": {
      "text/plain": [
       "10.0"
      ]
     },
     "execution_count": 10,
     "metadata": {
      "tags": []
     },
     "output_type": "execute_result"
    }
   ],
   "source": [
    "p.translate(3,4)\n",
    "p.odistance()"
   ]
  },
  {
   "cell_type": "code",
   "execution_count": 11,
   "metadata": {
    "colab": {
     "base_uri": "https://localhost:8080/"
    },
    "executionInfo": {
     "elapsed": 25,
     "status": "ok",
     "timestamp": 1626958034116,
     "user": {
      "displayName": "Madhavan Mukund",
      "photoUrl": "",
      "userId": "01436577584352849678"
     },
     "user_tz": -330
    },
    "id": "AtHNg3ybP-kR",
    "outputId": "2f3b558b-0424-4a78-a4b3-3e8485cacbe3"
   },
   "outputs": [
    {
     "name": "stdout",
     "output_type": "stream",
     "text": [
      "<__main__.Point object at 0x7f3b302d98d0>\n"
     ]
    }
   ],
   "source": [
    "print(p)"
   ]
  },
  {
   "cell_type": "code",
   "execution_count": 12,
   "metadata": {
    "colab": {
     "base_uri": "https://localhost:8080/",
     "height": 168
    },
    "executionInfo": {
     "elapsed": 33,
     "status": "error",
     "timestamp": 1626958034128,
     "user": {
      "displayName": "Madhavan Mukund",
      "photoUrl": "",
      "userId": "01436577584352849678"
     },
     "user_tz": -330
    },
    "id": "Rdds_CEuP5ga",
    "outputId": "d996a299-baa9-4ea9-a884-24ef9806f369"
   },
   "outputs": [
    {
     "ename": "TypeError",
     "evalue": "ignored",
     "output_type": "error",
     "traceback": [
      "\u001b[0;31m---------------------------------------------------------------------------\u001b[0m",
      "\u001b[0;31mTypeError\u001b[0m                                 Traceback (most recent call last)",
      "\u001b[0;32m<ipython-input-12-1886228b68be>\u001b[0m in \u001b[0;36m<module>\u001b[0;34m()\u001b[0m\n\u001b[0;32m----> 1\u001b[0;31m \u001b[0mprint\u001b[0m\u001b[0;34m(\u001b[0m\u001b[0mp\u001b[0m\u001b[0;34m+\u001b[0m\u001b[0mq\u001b[0m\u001b[0;34m)\u001b[0m\u001b[0;34m\u001b[0m\u001b[0;34m\u001b[0m\u001b[0m\n\u001b[0m",
      "\u001b[0;31mTypeError\u001b[0m: unsupported operand type(s) for +: 'Point' and 'Point'"
     ]
    }
   ],
   "source": [
    "print(p+q)"
   ]
  },
  {
   "cell_type": "markdown",
   "metadata": {
    "id": "WY4_XGDWPdWV"
   },
   "source": [
    "## Return to $(x,y)$ representation, adding `__str__` and `__add__`"
   ]
  },
  {
   "cell_type": "code",
   "execution_count": 20,
   "metadata": {
    "executionInfo": {
     "elapsed": 422,
     "status": "ok",
     "timestamp": 1626958287615,
     "user": {
      "displayName": "Madhavan Mukund",
      "photoUrl": "",
      "userId": "01436577584352849678"
     },
     "user_tz": -330
    },
    "id": "IA5wxJM2l6bY"
   },
   "outputs": [],
   "source": [
    "class Point:\n",
    "  def __init__(self,a=0,b=0):\n",
    "    self.x = a\n",
    "    self.y = b\n",
    "\n",
    "  def translate(self,deltax,deltay):\n",
    "    self.x += deltax\n",
    "    self.y += deltay\n",
    "\n",
    "  def odistance(self):\n",
    "    import math\n",
    "    d = math.sqrt(self.x*self.x +\n",
    "                  self.y*self.y)\n",
    "    return(d)\n",
    "\n",
    "  def __str__(self):\n",
    "    return('('+str(self.x)+','\n",
    "            +str(self.y)+')')\n",
    "\n",
    "  def __add__(self,p):\n",
    "    return(Point(self.x + p.x, \n",
    "                 self.y + p.y))\n"
   ]
  },
  {
   "cell_type": "markdown",
   "metadata": {
    "id": "TDx4EfoAPyou"
   },
   "source": [
    "## Again, run the same examples"
   ]
  },
  {
   "cell_type": "code",
   "execution_count": 21,
   "metadata": {
    "executionInfo": {
     "elapsed": 32,
     "status": "ok",
     "timestamp": 1626958288362,
     "user": {
      "displayName": "Madhavan Mukund",
      "photoUrl": "",
      "userId": "01436577584352849678"
     },
     "user_tz": -330
    },
    "id": "YQKmATswPw3z"
   },
   "outputs": [],
   "source": [
    "p = Point(3,4)\n",
    "q = Point(7,10)"
   ]
  },
  {
   "cell_type": "markdown",
   "metadata": {
    "id": "ZDzM_xaaPw31"
   },
   "source": [
    "Compute `odistance` for `p` and `q`"
   ]
  },
  {
   "cell_type": "code",
   "execution_count": 22,
   "metadata": {
    "colab": {
     "base_uri": "https://localhost:8080/"
    },
    "executionInfo": {
     "elapsed": 26,
     "status": "ok",
     "timestamp": 1626958288363,
     "user": {
      "displayName": "Madhavan Mukund",
      "photoUrl": "",
      "userId": "01436577584352849678"
     },
     "user_tz": -330
    },
    "id": "WKTMDwUoPw32",
    "outputId": "07a2e36f-54c6-4364-d6c4-b29c33d077d8"
   },
   "outputs": [
    {
     "data": {
      "text/plain": [
       "(5.0, 12.206555615733702)"
      ]
     },
     "execution_count": 22,
     "metadata": {
      "tags": []
     },
     "output_type": "execute_result"
    }
   ],
   "source": [
    "p.odistance(), q.odistance()"
   ]
  },
  {
   "cell_type": "markdown",
   "metadata": {
    "id": "QBWwxM5XPw34"
   },
   "source": [
    "Translate `p` and check the distance"
   ]
  },
  {
   "cell_type": "code",
   "execution_count": 23,
   "metadata": {
    "colab": {
     "base_uri": "https://localhost:8080/"
    },
    "executionInfo": {
     "elapsed": 22,
     "status": "ok",
     "timestamp": 1626958288365,
     "user": {
      "displayName": "Madhavan Mukund",
      "photoUrl": "",
      "userId": "01436577584352849678"
     },
     "user_tz": -330
    },
    "id": "-yYwSGgHPw35",
    "outputId": "f0c4fb05-ad16-4c9b-d1bc-13689a991072"
   },
   "outputs": [
    {
     "data": {
      "text/plain": [
       "10.0"
      ]
     },
     "execution_count": 23,
     "metadata": {
      "tags": []
     },
     "output_type": "execute_result"
    }
   ],
   "source": [
    "p.translate(3,4)\n",
    "p.odistance()"
   ]
  },
  {
   "cell_type": "markdown",
   "metadata": {
    "id": "IJ223fxdPw37"
   },
   "source": [
    "In the following two cells, we see a difference\n",
    "* Since `__str__` is defined, `print()` gives useful output\n",
    "* `+` works as expected thanks to the definition for `__add__`"
   ]
  },
  {
   "cell_type": "markdown",
   "metadata": {
    "id": "8wmgdrGdRMpX"
   },
   "source": []
  },
  {
   "cell_type": "code",
   "execution_count": 24,
   "metadata": {
    "colab": {
     "base_uri": "https://localhost:8080/"
    },
    "executionInfo": {
     "elapsed": 16,
     "status": "ok",
     "timestamp": 1626958288366,
     "user": {
      "displayName": "Madhavan Mukund",
      "photoUrl": "",
      "userId": "01436577584352849678"
     },
     "user_tz": -330
    },
    "id": "nqy2SmN2Pw38",
    "outputId": "b2461d51-27f3-4592-bce4-74daa9b509b1"
   },
   "outputs": [
    {
     "name": "stdout",
     "output_type": "stream",
     "text": [
      "(6,8)\n"
     ]
    }
   ],
   "source": [
    "print(p)"
   ]
  },
  {
   "cell_type": "code",
   "execution_count": 25,
   "metadata": {
    "colab": {
     "base_uri": "https://localhost:8080/"
    },
    "executionInfo": {
     "elapsed": 14,
     "status": "ok",
     "timestamp": 1626958288368,
     "user": {
      "displayName": "Madhavan Mukund",
      "photoUrl": "",
      "userId": "01436577584352849678"
     },
     "user_tz": -330
    },
    "id": "5xXveEMAPw39",
    "outputId": "b9f83da6-c9e4-4094-811d-d7b13cd3b302"
   },
   "outputs": [
    {
     "name": "stdout",
     "output_type": "stream",
     "text": [
      "(13,18)\n"
     ]
    }
   ],
   "source": [
    "print(p+q)"
   ]
  }
 ],
 "metadata": {
  "colab": {
   "authorship_tag": "ABX9TyMIFKbEnZzv/UwxKwzVQh4k",
   "name": "PDSA-Week1-Classes.ipynb",
   "provenance": []
  },
  "kernelspec": {
   "display_name": "Python 3",
   "name": "python3"
  },
  "language_info": {
   "name": "python"
  }
 },
 "nbformat": 4,
 "nbformat_minor": 0
}
