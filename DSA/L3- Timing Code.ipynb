{
 "cells": [
  {
   "cell_type": "markdown",
   "metadata": {
    "id": "YZfqacz3R_cy"
   },
   "source": [
    "# Timing Code"
   ]
  },
  {
   "cell_type": "markdown",
   "metadata": {
    "id": "8RxBrgZg0xK9"
   },
   "source": [
    "### Define a `Timer` class"
   ]
  },
  {
   "cell_type": "code",
   "execution_count": 1,
   "metadata": {
    "executionInfo": {
     "elapsed": 29,
     "status": "ok",
     "timestamp": 1626958816024,
     "user": {
      "displayName": "Madhavan Mukund",
      "photoUrl": "",
      "userId": "01436577584352849678"
     },
     "user_tz": -330
    },
    "id": "jaJEcmhW6ATj"
   },
   "outputs": [],
   "source": [
    "import time\n",
    "\n",
    "class TimerError(Exception):\n",
    "    \"\"\"A custom exception used to report errors in use of Timer class\"\"\"\n",
    "\n",
    "class Timer:\n",
    "    def __init__(self):\n",
    "        self._start_time = None\n",
    "        self._elapsed_time = None\n",
    "\n",
    "    def start(self):\n",
    "        \"\"\"Start a new timer\"\"\"\n",
    "        if self._start_time is not None:\n",
    "            raise TimerError(\"Timer is running. Use .stop()\")\n",
    "        self._start_time = time.perf_counter()\n",
    "\n",
    "    def stop(self):\n",
    "        \"\"\"Save the elapsed time and re-initialize timer\"\"\"\n",
    "        if self._start_time is None:\n",
    "           raise TimerError(\"Timer is not running. Use .start()\")\n",
    "        self._elapsed_time = time.perf_counter() - self._start_time\n",
    "        self._start_time = None\n",
    "\n",
    "    def elapsed(self):\n",
    "        \"\"\"Report elapsed time\"\"\"\n",
    "        if self._elapsed_time is None:\n",
    "           raise TimerError(\"Timer has not been run yet. Use .start()\")\n",
    "        return(self_elapsed_time)\n",
    "\n",
    "    def __str__(self):\n",
    "        \"\"\"print() prints elapsed time\"\"\"\n",
    "        return(str(self._elapsed_time))"
   ]
  },
  {
   "cell_type": "markdown",
   "metadata": {
    "id": "Wl8_wvrnSPH7"
   },
   "source": [
    "### Experimentally check Python execution time\n",
    "* Run a simple loop $10^4, 10^5, \\ldots, 10^8$ times\n",
    "* Time taken ranges from approximately $0.001s$ to approximately $10s$"
   ]
  },
  {
   "cell_type": "code",
   "execution_count": 2,
   "metadata": {
    "colab": {
     "base_uri": "https://localhost:8080/"
    },
    "executionInfo": {
     "elapsed": 14816,
     "status": "ok",
     "timestamp": 1626958830818,
     "user": {
      "displayName": "Madhavan Mukund",
      "photoUrl": "",
      "userId": "01436577584352849678"
     },
     "user_tz": -330
    },
    "id": "fj9d33Cz6pEX",
    "outputId": "850384a4-8395-43da-9d21-691165012271"
   },
   "outputs": [
    {
     "name": "stdout",
     "output_type": "stream",
     "text": [
      "4 0.0016220360000005485\n",
      "5 0.013152008000005821\n",
      "6 0.12692025299999443\n",
      "7 1.3113010569999943\n",
      "8 12.951606929000008\n"
     ]
    }
   ],
   "source": [
    "t = Timer()\n",
    "for j in range(4,9):\n",
    "  t.start()  # Start the timer\n",
    "\n",
    "  # Run a trivial loop with 10^j iterations\n",
    "  n = 0\n",
    "  for i in range(10**j):\n",
    "    n = n+i\n",
    "  \n",
    "  t.stop()   # Stop the timer\n",
    "  print(j,t) # Report time taken for this value of j"
   ]
  },
  {
   "cell_type": "markdown",
   "metadata": {
    "id": "VqNqQh2uTnUb"
   },
   "source": [
    "### If we change the basic operation inside the loop to a constant assignment, the time is slightly less"
   ]
  },
  {
   "cell_type": "code",
   "execution_count": 3,
   "metadata": {
    "colab": {
     "base_uri": "https://localhost:8080/"
    },
    "executionInfo": {
     "elapsed": 8224,
     "status": "ok",
     "timestamp": 1626958902860,
     "user": {
      "displayName": "Madhavan Mukund",
      "photoUrl": "",
      "userId": "01436577584352849678"
     },
     "user_tz": -330
    },
    "id": "QyzzzfVpTnji",
    "outputId": "2224d344-f149-4f4f-8a3c-867f526648ba"
   },
   "outputs": [
    {
     "name": "stdout",
     "output_type": "stream",
     "text": [
      "4 0.0015917349999767794\n",
      "5 0.0088671290000093\n",
      "6 0.07052080700000829\n",
      "7 0.7320572719999916\n",
      "8 7.1662828649999994\n"
     ]
    }
   ],
   "source": [
    "t = Timer()\n",
    "for j in range(4,9):\n",
    "  t.start()  # Start the timer\n",
    "\n",
    "  # Run a trivial loop with 10^j iterations\n",
    "  n = 0\n",
    "  for i in range(10**j):\n",
    "    n = 0\n",
    "  \n",
    "  t.stop()   # Stop the timer\n",
    "  print(j,t) # Report time taken for this value of j"
   ]
  }
 ],
 "metadata": {
  "colab": {
   "authorship_tag": "ABX9TyMIxXYKRmzwt6sEcfj6a5Ad",
   "name": "PDSA-Week1-Timing.ipynb",
   "provenance": []
  },
  "kernelspec": {
   "display_name": "Python 3",
   "name": "python3"
  },
  "language_info": {
   "name": "python"
  }
 },
 "nbformat": 4,
 "nbformat_minor": 0
}
